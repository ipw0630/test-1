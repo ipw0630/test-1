{
  "nbformat": 4,
  "nbformat_minor": 0,
  "metadata": {
    "colab": {
      "provenance": [],
      "authorship_tag": "ABX9TyMGzSBFzLA9ODRKaopPxmCc",
      "include_colab_link": true
    },
    "kernelspec": {
      "name": "python3",
      "display_name": "Python 3"
    },
    "language_info": {
      "name": "python"
    }
  },
  "cells": [
    {
      "cell_type": "markdown",
      "metadata": {
        "id": "view-in-github",
        "colab_type": "text"
      },
      "source": [
        "<a href=\"https://colab.research.google.com/github/ipw0630/test-1/blob/main/ASSIGNMENT_WEB_SCRAPPER.ipynb\" target=\"_parent\"><img src=\"https://colab.research.google.com/assets/colab-badge.svg\" alt=\"Open In Colab\"/></a>"
      ]
    },
    {
      "cell_type": "code",
      "execution_count": 55,
      "metadata": {
        "colab": {
          "base_uri": "https://localhost:8080/"
        },
        "id": "KxKbjkEYM2oh",
        "outputId": "c175d702-8b1a-4851-c896-befa6b0b2c06"
      },
      "outputs": [
        {
          "output_type": "execute_result",
          "data": {
            "text/plain": [
              "{'Date': 'Tue, 30 Apr 2024 17:54:47 GMT', 'Content-Type': 'text/html', 'Content-Length': '50388', 'Connection': 'keep-alive', 'Last-Modified': 'Wed, 08 Feb 2023 21:02:32 GMT', 'ETag': '\"63e40de8-c4d4\"', 'Accept-Ranges': 'bytes', 'Strict-Transport-Security': 'max-age=0; includeSubDomains; preload'}"
            ]
          },
          "metadata": {},
          "execution_count": 55
        }
      ],
      "source": [
        "from bs4 import BeautifulSoup\n",
        "import requests\n",
        "import csv\n",
        "import re\n",
        "url = 'https://books.toscrape.com/catalogue/category/books/mystery_3/index.html'\n",
        "\n",
        "page = requests.get(url)\n",
        "page.headers"
      ]
    },
    {
      "cell_type": "code",
      "source": [
        "page.text"
      ],
      "metadata": {
        "colab": {
          "base_uri": "https://localhost:8080/",
          "height": 227
        },
        "id": "6hmDN7k0QPL4",
        "outputId": "e46f07da-2b13-4faf-d435-cfe5b4ad37c3"
      },
      "execution_count": 56,
      "outputs": [
        {
          "output_type": "execute_result",
          "data": {
            "text/plain": [
              "'\\n\\n<!DOCTYPE html>\\n<!--[if lt IE 7]>      <html lang=\"en-us\" class=\"no-js lt-ie9 lt-ie8 lt-ie7\"> <![endif]-->\\n<!--[if IE 7]>         <html lang=\"en-us\" class=\"no-js lt-ie9 lt-ie8\"> <![endif]-->\\n<!--[if IE 8]>         <html lang=\"en-us\" class=\"no-js lt-ie9\"> <![endif]-->\\n<!--[if gt IE 8]><!--> <html lang=\"en-us\" class=\"no-js\"> <!--<![endif]-->\\n    <head>\\n        <title>\\n    Mystery | \\n     Books to Scrape - Sandbox\\n\\n</title>\\n\\n        <meta http-equiv=\"content-type\" content=\"text/html; charset=UTF-8\" />\\n        <meta name=\"created\" content=\"24th Jun 2016 09:29\" />\\n        <meta name=\"description\" content=\"\\n    \\n\" />\\n        <meta name=\"viewport\" content=\"width=device-width\" />\\n        <meta name=\"robots\" content=\"NOARCHIVE,NOCACHE\" />\\n\\n        <!-- Le HTML5 shim, for IE6-8 support of HTML elements -->\\n        <!--[if lt IE 9]>\\n        <script src=\"//html5shim.googlecode.com/svn/trunk/html5.js\"></script>\\n        <![endif]-->\\n\\n        \\n            <link rel=\"shortcut icon\" href=\"../../../../static/oscar/favicon.ico\" />\\n        \\n\\n        \\n        \\n    \\n    \\n        <link rel=\"stylesheet\" type=\"text/css\" href=\"../../../../static/oscar/css/styles.css\" />\\n    \\n    <link rel=\"stylesheet\" href=\"../../../../static/oscar/js/bootstrap-datetimepicker/bootstrap-datetimepicker.css\" />\\n    <link rel=\"stylesheet\" type=\"text/css\" href=\"../../../../static/oscar/css/datetimepicker.css\" />\\n\\n\\n        \\n        \\n\\n        \\n\\n        \\n            \\n            \\n\\n        \\n    </head>\\n\\n    <body id=\"default\" class=\"default\">\\n        \\n        \\n    \\n    \\n    <header class=\"header container-fluid\">\\n        <div class=\"page_inner\">\\n            <div class=\"row\">\\n                <div class=\"col-sm-8 h1\"><a href=\"../../../../index.html\">Books to Scrape</a><small> We love being scraped!</small>\\n</div>\\n\\n                \\n            </div>\\n        </div>\\n    </header>\\n\\n    \\n    \\n<div class=\"container-fluid page\">\\n    <div class=\"page_inner\">\\n        \\n    <ul class=\"breadcrumb\">\\n        <li>\\n            <a href=\"../../../../index.html\">Home</a>\\n        </li>\\n        \\n            <li>\\n                <a href=\"../../books_1/index.html\">Books</a>\\n            </li>\\n        \\n        <li class=\"active\">Mystery</li>\\n    </ul>\\n\\n        <div class=\"row\">\\n\\n            <aside class=\"sidebar col-sm-4 col-md-3\">\\n                \\n                <div id=\"promotions_left\">\\n                    \\n                </div>\\n                \\n    \\n    \\n        \\n        <div class=\"side_categories\">\\n            <ul class=\"nav nav-list\">\\n                \\n                    <li>\\n                        <a href=\"../../books_1/index.html\">\\n                            \\n                                Books\\n                            \\n                        </a>\\n\\n                        <ul>\\n                        \\n                \\n                    <li>\\n                        <a href=\"../travel_2/index.html\">\\n                            \\n                                Travel\\n                            \\n                        </a>\\n\\n                        </li>\\n                        \\n                \\n                    <li>\\n                        <a href=\"index.html\">\\n                            \\n                                <strong>Mystery</strong>\\n                            \\n                        </a>\\n\\n                        </li>\\n                        \\n                \\n                    <li>\\n                        <a href=\"../historical-fiction_4/index.html\">\\n                            \\n                                Historical Fiction\\n                            \\n                        </a>\\n\\n                        </li>\\n                        \\n                \\n                    <li>\\n                        <a href=\"../sequential-art_5/index.html\">\\n                            \\n                                Sequential Art\\n                            \\n                        </a>\\n\\n                        </li>\\n                        \\n                \\n                    <li>\\n                        <a href=\"../classics_6/index.html\">\\n                            \\n                                Classics\\n                            \\n                        </a>\\n\\n                        </li>\\n                        \\n                \\n                    <li>\\n                        <a href=\"../philosophy_7/index.html\">\\n                            \\n                                Philosophy\\n                            \\n                        </a>\\n\\n                        </li>\\n                        \\n                \\n                    <li>\\n                        <a href=\"../romance_8/index.html\">\\n                            \\n                                Romance\\n                            \\n                        </a>\\n\\n                        </li>\\n                        \\n                \\n                    <li>\\n                        <a href=\"../womens-fiction_9/index.html\">\\n                            \\n                                Womens Fiction\\n                            \\n                        </a>\\n\\n                        </li>\\n                        \\n                \\n                    <li>\\n                        <a href=\"../fiction_10/index.html\">\\n                            \\n                                Fiction\\n                            \\n                        </a>\\n\\n                        </li>\\n                        \\n                \\n                    <li>\\n                        <a href=\"../childrens_11/index.html\">\\n                            \\n                                Childrens\\n                            \\n                        </a>\\n\\n                        </li>\\n                        \\n                \\n                    <li>\\n                        <a href=\"../religion_12/index.html\">\\n                            \\n                                Religion\\n                            \\n                        </a>\\n\\n                        </li>\\n                        \\n                \\n                    <li>\\n                        <a href=\"../nonfiction_13/index.html\">\\n                            \\n                                Nonfiction\\n                            \\n                        </a>\\n\\n                        </li>\\n                        \\n                \\n                    <li>\\n                        <a href=\"../music_14/index.html\">\\n                            \\n                                Music\\n                            \\n                        </a>\\n\\n                        </li>\\n                        \\n                \\n                    <li>\\n                        <a href=\"../default_15/index.html\">\\n                            \\n                                Default\\n                            \\n                        </a>\\n\\n                        </li>\\n                        \\n                \\n                    <li>\\n                        <a href=\"../science-fiction_16/index.html\">\\n                            \\n                                Science Fiction\\n                            \\n                        </a>\\n\\n                        </li>\\n                        \\n                \\n                    <li>\\n                        <a href=\"../sports-and-games_17/index.html\">\\n                            \\n                                Sports and Games\\n                            \\n                        </a>\\n\\n                        </li>\\n                        \\n                \\n                    <li>\\n                        <a href=\"../add-a-comment_18/index.html\">\\n                            \\n                                Add a comment\\n                            \\n                        </a>\\n\\n                        </li>\\n                        \\n                \\n                    <li>\\n                        <a href=\"../fantasy_19/index.html\">\\n                            \\n                                Fantasy\\n                            \\n                        </a>\\n\\n                        </li>\\n                        \\n                \\n                    <li>\\n                        <a href=\"../new-adult_20/index.html\">\\n                            \\n                                New Adult\\n                            \\n                        </a>\\n\\n                        </li>\\n                        \\n                \\n                    <li>\\n                        <a href=\"../young-adult_21/index.html\">\\n                            \\n                                Young Adult\\n                            \\n                        </a>\\n\\n                        </li>\\n                        \\n                \\n                    <li>\\n                        <a href=\"../science_22/index.html\">\\n                            \\n                                Science\\n                            \\n                        </a>\\n\\n                        </li>\\n                        \\n                \\n                    <li>\\n                        <a href=\"../poetry_23/index.html\">\\n                            \\n                                Poetry\\n                            \\n                        </a>\\n\\n                        </li>\\n                        \\n                \\n                    <li>\\n                        <a href=\"../paranormal_24/index.html\">\\n                            \\n                                Paranormal\\n                            \\n                        </a>\\n\\n                        </li>\\n                        \\n                \\n                    <li>\\n                        <a href=\"../art_25/index.html\">\\n                            \\n                                Art\\n                            \\n                        </a>\\n\\n                        </li>\\n                        \\n                \\n                    <li>\\n                        <a href=\"../psychology_26/index.html\">\\n                            \\n                                Psychology\\n                            \\n                        </a>\\n\\n                        </li>\\n                        \\n                \\n                    <li>\\n                        <a href=\"../autobiography_27/index.html\">\\n                            \\n                                Autobiography\\n                            \\n                        </a>\\n\\n                        </li>\\n                        \\n                \\n                    <li>\\n                        <a href=\"../parenting_28/index.html\">\\n                            \\n                                Parenting\\n                            \\n                        </a>\\n\\n                        </li>\\n                        \\n                \\n                    <li>\\n                        <a href=\"../adult-fiction_29/index.html\">\\n                            \\n                                Adult Fiction\\n                            \\n                        </a>\\n\\n                        </li>\\n                        \\n                \\n                    <li>\\n                        <a href=\"../humor_30/index.html\">\\n                            \\n                                Humor\\n                            \\n                        </a>\\n\\n                        </li>\\n                        \\n                \\n                    <li>\\n                        <a href=\"../horror_31/index.html\">\\n                            \\n                                Horror\\n                            \\n                        </a>\\n\\n                        </li>\\n                        \\n                \\n                    <li>\\n                        <a href=\"../history_32/index.html\">\\n                            \\n                                History\\n                            \\n                        </a>\\n\\n                        </li>\\n                        \\n                \\n                    <li>\\n                        <a href=\"../food-and-drink_33/index.html\">\\n                            \\n                                Food and Drink\\n                            \\n                        </a>\\n\\n                        </li>\\n                        \\n                \\n                    <li>\\n                        <a href=\"../christian-fiction_34/index.html\">\\n                            \\n                                Christian Fiction\\n                            \\n                        </a>\\n\\n                        </li>\\n                        \\n                \\n                    <li>\\n                        <a href=\"../business_35/index.html\">\\n                            \\n                                Business\\n                            \\n                        </a>\\n\\n                        </li>\\n                        \\n                \\n                    <li>\\n                        <a href=\"../biography_36/index.html\">\\n                            \\n                                Biography\\n                            \\n                        </a>\\n\\n                        </li>\\n                        \\n                \\n                    <li>\\n                        <a href=\"../thriller_37/index.html\">\\n                            \\n                                Thriller\\n                            \\n                        </a>\\n\\n                        </li>\\n                        \\n                \\n                    <li>\\n                        <a href=\"../contemporary_38/index.html\">\\n                            \\n                                Contemporary\\n                            \\n                        </a>\\n\\n                        </li>\\n                        \\n                \\n                    <li>\\n                        <a href=\"../spirituality_39/index.html\">\\n                            \\n                                Spirituality\\n                            \\n                        </a>\\n\\n                        </li>\\n                        \\n                \\n                    <li>\\n                        <a href=\"../academic_40/index.html\">\\n                            \\n                                Academic\\n                            \\n                        </a>\\n\\n                        </li>\\n                        \\n                \\n                    <li>\\n                        <a href=\"../self-help_41/index.html\">\\n                            \\n                                Self Help\\n                            \\n                        </a>\\n\\n                        </li>\\n                        \\n                \\n                    <li>\\n                        <a href=\"../historical_42/index.html\">\\n                            \\n                                Historical\\n                            \\n                        </a>\\n\\n                        </li>\\n                        \\n                \\n                    <li>\\n                        <a href=\"../christian_43/index.html\">\\n                            \\n                                Christian\\n                            \\n                        </a>\\n\\n                        </li>\\n                        \\n                \\n                    <li>\\n                        <a href=\"../suspense_44/index.html\">\\n                            \\n                                Suspense\\n                            \\n                        </a>\\n\\n                        </li>\\n                        \\n                \\n                    <li>\\n                        <a href=\"../short-stories_45/index.html\">\\n                            \\n                                Short Stories\\n                            \\n                        </a>\\n\\n                        </li>\\n                        \\n                \\n                    <li>\\n                        <a href=\"../novels_46/index.html\">\\n                            \\n                                Novels\\n                            \\n                        </a>\\n\\n                        </li>\\n                        \\n                \\n                    <li>\\n                        <a href=\"../health_47/index.html\">\\n                            \\n                                Health\\n                            \\n                        </a>\\n\\n                        </li>\\n                        \\n                \\n                    <li>\\n                        <a href=\"../politics_48/index.html\">\\n                            \\n                                Politics\\n                            \\n                        </a>\\n\\n                        </li>\\n                        \\n                \\n                    <li>\\n                        <a href=\"../cultural_49/index.html\">\\n                            \\n                                Cultural\\n                            \\n                        </a>\\n\\n                        </li>\\n                        \\n                \\n                    <li>\\n                        <a href=\"../erotica_50/index.html\">\\n                            \\n                                Erotica\\n                            \\n                        </a>\\n\\n                        </li>\\n                        \\n                \\n                    <li>\\n                        <a href=\"../crime_51/index.html\">\\n                            \\n                                Crime\\n                            \\n                        </a>\\n\\n                        </li>\\n                        \\n                            </ul></li>\\n                        \\n                \\n            </ul>\\n        </div>\\n    \\n    \\n\\n            </aside>\\n\\n            <div class=\"col-sm-8 col-md-9\">\\n                \\n                <div class=\"page-header action\">\\n                    <h1>Mystery</h1>\\n                </div>\\n                \\n\\n                \\n\\n\\n\\n<div id=\"messages\">\\n\\n</div>\\n\\n\\n                <div id=\"promotions\">\\n                    \\n                </div>\\n\\n                \\n    \\n    \\n    <form method=\"get\" class=\"form-horizontal\">\\n        \\n        <div style=\"display:none\">\\n            \\n            \\n        </div>\\n\\n        \\n            \\n                \\n                    <strong>32</strong> results - showing <strong>1</strong> to <strong>20</strong>.\\n                \\n            \\n            \\n        \\n    </form>\\n    \\n        <section>\\n            <div class=\"alert alert-warning\" role=\"alert\"><strong>Warning!</strong> This is a demo website for web scraping purposes. Prices and ratings here were randomly assigned and have no real meaning.</div>\\n\\n            <div>\\n                <ol class=\"row\">\\n                    \\n                        <li class=\"col-xs-6 col-sm-4 col-md-3 col-lg-3\">\\n\\n\\n\\n\\n\\n\\n    <article class=\"product_pod\">\\n        \\n            <div class=\"image_container\">\\n                \\n                    \\n                    <a href=\"../../../sharp-objects_997/index.html\"><img src=\"../../../../media/cache/32/51/3251cf3a3412f53f339e42cac2134093.jpg\" alt=\"Sharp Objects\" class=\"thumbnail\"></a>\\n                    \\n                \\n            </div>\\n        \\n\\n        \\n            \\n                <p class=\"star-rating Four\">\\n                    <i class=\"icon-star\"></i>\\n                    <i class=\"icon-star\"></i>\\n                    <i class=\"icon-star\"></i>\\n                    <i class=\"icon-star\"></i>\\n                    <i class=\"icon-star\"></i>\\n                </p>\\n            \\n        \\n\\n        \\n            <h3><a href=\"../../../sharp-objects_997/index.html\" title=\"Sharp Objects\">Sharp Objects</a></h3>\\n        \\n\\n        \\n            <div class=\"product_price\">\\n                \\n\\n\\n\\n\\n\\n\\n    \\n        <p class=\"price_color\">Â£47.82</p>\\n    \\n\\n<p class=\"instock availability\">\\n    <i class=\"icon-ok\"></i>\\n    \\n        In stock\\n    \\n</p>\\n\\n                \\n                    \\n\\n\\n\\n\\n\\n\\n    \\n    <form>\\n        <button type=\"submit\" class=\"btn btn-primary btn-block\" data-loading-text=\"Adding...\">Add to basket</button>\\n    </form>\\n\\n\\n                \\n            </div>\\n        \\n    </article>\\n\\n</li>\\n                    \\n                        <li class=\"col-xs-6 col-sm-4 col-md-3 col-lg-3\">\\n\\n\\n\\n\\n\\n\\n    <article class=\"product_pod\">\\n        \\n            <div class=\"image_container\">\\n                \\n                    \\n                    <a href=\"../../../in-a-dark-dark-wood_963/index.html\"><img src=\"../../../../media/cache/23/85/238570a1c284e730dbc737a7e631ae2b.jpg\" alt=\"In a Dark, Dark Wood\" class=\"thumbnail\"></a>\\n                    \\n                \\n            </div>\\n        \\n\\n        \\n            \\n                <p class=\"star-rating One\">\\n                    <i class=\"icon-star\"></i>\\n                    <i class=\"icon-star\"></i>\\n                    <i class=\"icon-star\"></i>\\n                    <i class=\"icon-star\"></i>\\n                    <i class=\"icon-star\"></i>\\n                </p>\\n            \\n        \\n\\n        \\n            <h3><a href=\"../../../in-a-dark-dark-wood_963/index.html\" title=\"In a Dark, Dark Wood\">In a Dark, Dark ...</a></h3>\\n        \\n\\n        \\n            <div class=\"product_price\">\\n                \\n\\n\\n\\n\\n\\n\\n    \\n        <p class=\"price_color\">Â£19.63</p>\\n    \\n\\n<p class=\"instock availability\">\\n    <i class=\"icon-ok\"></i>\\n    \\n        In stock\\n    \\n</p>\\n\\n                \\n                    \\n\\n\\n\\n\\n\\n\\n    \\n    <form>\\n        <button type=\"submit\" class=\"btn btn-primary btn-block\" data-loading-text=\"Adding...\">Add to basket</button>\\n    </form>\\n\\n\\n                \\n            </div>\\n        \\n    </article>\\n\\n</li>\\n                    \\n                        <li class=\"col-xs-6 col-sm-4 col-md-3 col-lg-3\">\\n\\n\\n\\n\\n\\n\\n    <article class=\"product_pod\">\\n        \\n            <div class=\"image_container\">\\n                \\n                    \\n                    <a href=\"../../../the-past-never-ends_942/index.html\"><img src=\"../../../../media/cache/89/b8/89b850edb01851a91f64ba114b96acb6.jpg\" alt=\"The Past Never Ends\" class=\"thumbnail\"></a>\\n                    \\n                \\n            </div>\\n        \\n\\n        \\n            \\n                <p class=\"star-rating Four\">\\n                    <i class=\"icon-star\"></i>\\n                    <i class=\"icon-star\"></i>\\n                    <i class=\"icon-star\"></i>\\n                    <i class=\"icon-star\"></i>\\n                    <i class=\"icon-star\"></i>\\n                </p>\\n            \\n        \\n\\n        \\n            <h3><a href=\"../../../the-past-never-ends_942/index.html\" title=\"The Past Never Ends\">The Past Never Ends</a></h3>\\n        \\n\\n        \\n            <div class=\"product_price\">\\n                \\n\\n\\n\\n\\n\\n\\n    \\n        <p class=\"price_color\">Â£56.50</p>\\n    \\n\\n<p class=\"instock availability\">\\n    <i class=\"icon-ok\"></i>\\n    \\n        In stock\\n    \\n</p>\\n\\n                \\n                    \\n\\n\\n\\n\\n\\n\\n    \\n    <form>\\n        <button type=\"submit\" class=\"btn btn-primary btn-block\" data-loading-text=\"Adding...\">Add to basket</button>\\n    </form>\\n\\n\\n                \\n            </div>\\n        \\n    </article>\\n\\n</li>\\n                    \\n                        <li class=\"col-xs-6 col-sm-4 col-md-3 col-lg-3\">\\n\\n\\n\\n\\n\\n\\n    <article class=\"product_pod\">\\n        \\n            <div class=\"image_container\">\\n                \\n                    \\n                    <a href=\"../../../a-murder-in-time_877/index.html\"><img src=\"../../../../media/cache/11/aa/11aaad48b5f15e262456ca65294084da.jpg\" alt=\"A Murder in Time\" class=\"thumbnail\"></a>\\n                    \\n                \\n            </div>\\n        \\n\\n        \\n            \\n                <p class=\"star-rating One\">\\n                    <i class=\"icon-star\"></i>\\n                    <i class=\"icon-star\"></i>\\n                    <i class=\"icon-star\"></i>\\n                    <i class=\"icon-star\"></i>\\n                    <i class=\"icon-star\"></i>\\n                </p>\\n            \\n        \\n\\n        \\n            <h3><a href=\"../../../a-murder-in-time_877/index.html\" title=\"A Murder in Time\">A Murder in Time</a></h3>\\n        \\n\\n        \\n            <div class=\"product_price\">\\n                \\n\\n\\n\\n\\n\\n\\n    \\n        <p class=\"price_color\">Â£16.64</p>\\n    \\n\\n<p class=\"instock availability\">\\n    <i class=\"icon-ok\"></i>\\n    \\n        In stock\\n    \\n</p>\\n\\n                \\n                    \\n\\n\\n\\n\\n\\n\\n    \\n    <form>\\n        <button type=\"submit\" class=\"btn btn-primary btn-block\" data-loading-text=\"Adding...\">Add to basket</button>\\n    </form>\\n\\n\\n                \\n            </div>\\n        \\n    </article>\\n\\n</li>\\n                    \\n                        <li class=\"col-xs-6 col-sm-4 col-md-3 col-lg-3\">\\n\\n\\n\\n\\n\\n\\n    <article class=\"product_pod\">\\n        \\n            <div class=\"image_container\">\\n                \\n                    \\n                    <a href=\"../../../the-murder-of-roger-ackroyd-hercule-poirot-4_852/index.html\"><img src=\"../../../../media/cache/29/fe/29fe70b1b2e5a9ba61d4bd331255e19e.jpg\" alt=\"The Murder of Roger Ackroyd (Hercule Poirot #4)\" class=\"thumbnail\"></a>\\n                    \\n                \\n            </div>\\n        \\n\\n        \\n            \\n                <p class=\"star-rating Four\">\\n                    <i class=\"icon-star\"></i>\\n                    <i class=\"icon-star\"></i>\\n                    <i class=\"icon-star\"></i>\\n                    <i class=\"icon-star\"></i>\\n                    <i class=\"icon-star\"></i>\\n                </p>\\n            \\n        \\n\\n        \\n            <h3><a href=\"../../../the-murder-of-roger-ackroyd-hercule-poirot-4_852/index.html\" title=\"The Murder of Roger Ackroyd (Hercule Poirot #4)\">The Murder of Roger ...</a></h3>\\n        \\n\\n        \\n            <div class=\"product_price\">\\n                \\n\\n\\n\\n\\n\\n\\n    \\n        <p class=\"price_color\">Â£44.10</p>\\n    \\n\\n<p class=\"instock availability\">\\n    <i class=\"icon-ok\"></i>\\n    \\n        In stock\\n    \\n</p>\\n\\n                \\n                    \\n\\n\\n\\n\\n\\n\\n    \\n    <form>\\n        <button type=\"submit\" class=\"btn btn-primary btn-block\" data-loading-text=\"Adding...\">Add to basket</button>\\n    </form>\\n\\n\\n                \\n            </div>\\n        \\n    </article>\\n\\n</li>\\n                    \\n                        <li class=\"col-xs-6 col-sm-4 col-md-3 col-lg-3\">\\n\\n\\n\\n\\n\\n\\n    <article class=\"product_pod\">\\n        \\n            <div class=\"image_container\">\\n                \\n                    \\n                    <a href=\"../../../the-last-mile-amos-decker-2_754/index.html\"><img src=\"../../../../media/cache/37/f1/37f118b4a56d866e1e8b563759d6966c.jpg\" alt=\"The Last Mile (Amos Decker #2)\" class=\"thumbnail\"></a>\\n                    \\n                \\n            </div>\\n        \\n\\n        \\n            \\n                <p class=\"star-rating Two\">\\n                    <i class=\"icon-star\"></i>\\n                    <i class=\"icon-star\"></i>\\n                    <i class=\"icon-star\"></i>\\n                    <i class=\"icon-star\"></i>\\n                    <i class=\"icon-star\"></i>\\n                </p>\\n            \\n        \\n\\n        \\n            <h3><a href=\"../../../the-last-mile-amos-decker-2_754/index.html\" title=\"The Last Mile (Amos Decker #2)\">The Last Mile (Amos ...</a></h3>\\n        \\n\\n        \\n            <div class=\"product_price\">\\n                \\n\\n\\n\\n\\n\\n\\n    \\n        <p class=\"price_color\">Â£54.21</p>\\n    \\n\\n<p class=\"instock availability\">\\n    <i class=\"icon-ok\"></i>\\n    \\n        In stock\\n    \\n</p>\\n\\n                \\n                    \\n\\n\\n\\n\\n\\n\\n    \\n    <form>\\n        <button type=\"submit\" class=\"btn btn-primary btn-block\" data-loading-text=\"Adding...\">Add to basket</button>\\n    </form>\\n\\n\\n                \\n            </div>\\n        \\n    </article>\\n\\n</li>\\n                    \\n                        <li class=\"col-xs-6 col-sm-4 col-md-3 col-lg-3\">\\n\\n\\n\\n\\n\\n\\n    <article class=\"product_pod\">\\n        \\n            <div class=\"image_container\">\\n                \\n                    \\n                    <a href=\"../../../that-darkness-gardiner-and-renner-1_743/index.html\"><img src=\"../../../../media/cache/44/9e/449ed681142bc336646abee754e96639.jpg\" alt=\"That Darkness (Gardiner and Renner #1)\" class=\"thumbnail\"></a>\\n                    \\n                \\n            </div>\\n        \\n\\n        \\n            \\n                <p class=\"star-rating One\">\\n                    <i class=\"icon-star\"></i>\\n                    <i class=\"icon-star\"></i>\\n                    <i class=\"icon-star\"></i>\\n                    <i class=\"icon-star\"></i>\\n                    <i class=\"icon-star\"></i>\\n                </p>\\n            \\n        \\n\\n        \\n            <h3><a href=\"../../../that-darkness-gardiner-and-renner-1_743/index.html\" title=\"That Darkness (Gardiner and Renner #1)\">That Darkness (Gardiner and ...</a></h3>\\n        \\n\\n        \\n            <div class=\"product_price\">\\n                \\n\\n\\n\\n\\n\\n\\n    \\n        <p class=\"price_color\">Â£13.92</p>\\n    \\n\\n<p class=\"instock availability\">\\n    <i class=\"icon-ok\"></i>\\n    \\n        In stock\\n    \\n</p>\\n\\n                \\n                    \\n\\n\\n\\n\\n\\n\\n    \\n    <form>\\n        <button type=\"submit\" class=\"btn btn-primary btn-block\" data-loading-text=\"Adding...\">Add to basket</button>\\n    </form>\\n\\n\\n                \\n            </div>\\n        \\n    </article>\\n\\n</li>\\n                    \\n                        <li class=\"col-xs-6 col-sm-4 col-md-3 col-lg-3\">\\n\\n\\n\\n\\n\\n\\n    <article class=\"product_pod\">\\n        \\n            <div class=\"image_container\">\\n                \\n                    \\n                    <a href=\"../../../tastes-like-fear-di-marnie-rome-3_742/index.html\"><img src=\"../../../../media/cache/3c/91/3c91d97266bd6dda322089695fb46daf.jpg\" alt=\"Tastes Like Fear (DI Marnie Rome #3)\" class=\"thumbnail\"></a>\\n                    \\n                \\n            </div>\\n        \\n\\n        \\n            \\n                <p class=\"star-rating One\">\\n                    <i class=\"icon-star\"></i>\\n                    <i class=\"icon-star\"></i>\\n                    <i class=\"icon-star\"></i>\\n                    <i class=\"icon-star\"></i>\\n                    <i class=\"icon-star\"></i>\\n                </p>\\n            \\n        \\n\\n        \\n            <h3><a href=\"../../../tastes-like-fear-di-marnie-rome-3_742/index.html\" title=\"Tastes Like Fear (DI Marnie Rome #3)\">Tastes Like Fear (DI ...</a></h3>\\n        \\n\\n        \\n            <div class=\"product_price\">\\n                \\n\\n\\n\\n\\n\\n\\n    \\n        <p class=\"price_color\">Â£10.69</p>\\n    \\n\\n<p class=\"instock availability\">\\n    <i class=\"icon-ok\"></i>\\n    \\n        In stock\\n    \\n</p>\\n\\n                \\n                    \\n\\n\\n\\n\\n\\n\\n    \\n    <form>\\n        <button type=\"submit\" class=\"btn btn-primary btn-block\" data-loading-text=\"Adding...\">Add to basket</button>\\n    </form>\\n\\n\\n                \\n            </div>\\n        \\n    </article>\\n\\n</li>\\n                    \\n                        <li class=\"col-xs-6 col-sm-4 col-md-3 col-lg-3\">\\n\\n\\n\\n\\n\\n\\n    <article class=\"product_pod\">\\n        \\n            <div class=\"image_container\">\\n                \\n                    \\n                    <a href=\"../../../a-time-of-torment-charlie-parker-14_657/index.html\"><img src=\"../../../../media/cache/e8/c0/e8c0ba15066bab950ae161fd60949b9a.jpg\" alt=\"A Time of Torment (Charlie Parker #14)\" class=\"thumbnail\"></a>\\n                    \\n                \\n            </div>\\n        \\n\\n        \\n            \\n                <p class=\"star-rating Five\">\\n                    <i class=\"icon-star\"></i>\\n                    <i class=\"icon-star\"></i>\\n                    <i class=\"icon-star\"></i>\\n                    <i class=\"icon-star\"></i>\\n                    <i class=\"icon-star\"></i>\\n                </p>\\n            \\n        \\n\\n        \\n            <h3><a href=\"../../../a-time-of-torment-charlie-parker-14_657/index.html\" title=\"A Time of Torment (Charlie Parker #14)\">A Time of Torment ...</a></h3>\\n        \\n\\n        \\n            <div class=\"product_price\">\\n                \\n\\n\\n\\n\\n\\n\\n    \\n        <p class=\"price_color\">Â£48.35</p>\\n    \\n\\n<p class=\"instock availability\">\\n    <i class=\"icon-ok\"></i>\\n    \\n        In stock\\n    \\n</p>\\n\\n                \\n                    \\n\\n\\n\\n\\n\\n\\n    \\n    <form>\\n        <button type=\"submit\" class=\"btn btn-primary btn-block\" data-loading-text=\"Adding...\">Add to basket</button>\\n    </form>\\n\\n\\n                \\n            </div>\\n        \\n    </article>\\n\\n</li>\\n                    \\n                        <li class=\"col-xs-6 col-sm-4 col-md-3 col-lg-3\">\\n\\n\\n\\n\\n\\n\\n    <article class=\"product_pod\">\\n        \\n            <div class=\"image_container\">\\n                \\n                    \\n                    <a href=\"../../../a-study-in-scarlet-sherlock-holmes-1_656/index.html\"><img src=\"../../../../media/cache/8f/a4/8fa41d6caa10e427356b8a590eb4d96b.jpg\" alt=\"A Study in Scarlet (Sherlock Holmes #1)\" class=\"thumbnail\"></a>\\n                    \\n                \\n            </div>\\n        \\n\\n        \\n            \\n                <p class=\"star-rating Two\">\\n                    <i class=\"icon-star\"></i>\\n                    <i class=\"icon-star\"></i>\\n                    <i class=\"icon-star\"></i>\\n                    <i class=\"icon-star\"></i>\\n                    <i class=\"icon-star\"></i>\\n                </p>\\n            \\n        \\n\\n        \\n            <h3><a href=\"../../../a-study-in-scarlet-sherlock-holmes-1_656/index.html\" title=\"A Study in Scarlet (Sherlock Holmes #1)\">A Study in Scarlet ...</a></h3>\\n        \\n\\n        \\n            <div class=\"product_price\">\\n                \\n\\n\\n\\n\\n\\n\\n    \\n        <p class=\"price_color\">Â£16.73</p>\\n    \\n\\n<p class=\"instock availability\">\\n    <i class=\"icon-ok\"></i>\\n    \\n        In stock\\n    \\n</p>\\n\\n                \\n                    \\n\\n\\n\\n\\n\\n\\n    \\n    <form>\\n        <button type=\"submit\" class=\"btn btn-primary btn-block\" data-loading-text=\"Adding...\">Add to basket</button>\\n    </form>\\n\\n\\n                \\n            </div>\\n        \\n    </article>\\n\\n</li>\\n                    \\n                        <li class=\"col-xs-6 col-sm-4 col-md-3 col-lg-3\">\\n\\n\\n\\n\\n\\n\\n    <article class=\"product_pod\">\\n        \\n            <div class=\"image_container\">\\n                \\n                    \\n                    <a href=\"../../../poisonous-max-revere-novels-3_627/index.html\"><img src=\"../../../../media/cache/23/52/2352718971d5e166fa9541a5a7d716fa.jpg\" alt=\"Poisonous (Max Revere Novels #3)\" class=\"thumbnail\"></a>\\n                    \\n                \\n            </div>\\n        \\n\\n        \\n            \\n                <p class=\"star-rating Three\">\\n                    <i class=\"icon-star\"></i>\\n                    <i class=\"icon-star\"></i>\\n                    <i class=\"icon-star\"></i>\\n                    <i class=\"icon-star\"></i>\\n                    <i class=\"icon-star\"></i>\\n                </p>\\n            \\n        \\n\\n        \\n            <h3><a href=\"../../../poisonous-max-revere-novels-3_627/index.html\" title=\"Poisonous (Max Revere Novels #3)\">Poisonous (Max Revere Novels ...</a></h3>\\n        \\n\\n        \\n            <div class=\"product_price\">\\n                \\n\\n\\n\\n\\n\\n\\n    \\n        <p class=\"price_color\">Â£26.80</p>\\n    \\n\\n<p class=\"instock availability\">\\n    <i class=\"icon-ok\"></i>\\n    \\n        In stock\\n    \\n</p>\\n\\n                \\n                    \\n\\n\\n\\n\\n\\n\\n    \\n    <form>\\n        <button type=\"submit\" class=\"btn btn-primary btn-block\" data-loading-text=\"Adding...\">Add to basket</button>\\n    </form>\\n\\n\\n                \\n            </div>\\n        \\n    </article>\\n\\n</li>\\n                    \\n                        <li class=\"col-xs-6 col-sm-4 col-md-3 col-lg-3\">\\n\\n\\n\\n\\n\\n\\n    <article class=\"product_pod\">\\n        \\n            <div class=\"image_container\">\\n                \\n                    \\n                    <a href=\"../../../murder-at-the-42nd-street-library-raymond-ambler-1_624/index.html\"><img src=\"../../../../media/cache/c3/8d/c38d65cd155b67ca025f0655bd1bb095.jpg\" alt=\"Murder at the 42nd Street Library (Raymond Ambler #1)\" class=\"thumbnail\"></a>\\n                    \\n                \\n            </div>\\n        \\n\\n        \\n            \\n                <p class=\"star-rating Four\">\\n                    <i class=\"icon-star\"></i>\\n                    <i class=\"icon-star\"></i>\\n                    <i class=\"icon-star\"></i>\\n                    <i class=\"icon-star\"></i>\\n                    <i class=\"icon-star\"></i>\\n                </p>\\n            \\n        \\n\\n        \\n            <h3><a href=\"../../../murder-at-the-42nd-street-library-raymond-ambler-1_624/index.html\" title=\"Murder at the 42nd Street Library (Raymond Ambler #1)\">Murder at the 42nd ...</a></h3>\\n        \\n\\n        \\n            <div class=\"product_price\">\\n                \\n\\n\\n\\n\\n\\n\\n    \\n        <p class=\"price_color\">Â£54.36</p>\\n    \\n\\n<p class=\"instock availability\">\\n    <i class=\"icon-ok\"></i>\\n    \\n        In stock\\n    \\n</p>\\n\\n                \\n                    \\n\\n\\n\\n\\n\\n\\n    \\n    <form>\\n        <button type=\"submit\" class=\"btn btn-primary btn-block\" data-loading-text=\"Adding...\">Add to basket</button>\\n    </form>\\n\\n\\n                \\n            </div>\\n        \\n    </article>\\n\\n</li>\\n                    \\n                        <li class=\"col-xs-6 col-sm-4 col-md-3 col-lg-3\">\\n\\n\\n\\n\\n\\n\\n    <article class=\"product_pod\">\\n        \\n            <div class=\"image_container\">\\n                \\n                    \\n                    <a href=\"../../../most-wanted_623/index.html\"><img src=\"../../../../media/cache/8b/bc/8bbc5ab4c3784b4d9b93eb0fd1fb6fd6.jpg\" alt=\"Most Wanted\" class=\"thumbnail\"></a>\\n                    \\n                \\n            </div>\\n        \\n\\n        \\n            \\n                <p class=\"star-rating Three\">\\n                    <i class=\"icon-star\"></i>\\n                    <i class=\"icon-star\"></i>\\n                    <i class=\"icon-star\"></i>\\n                    <i class=\"icon-star\"></i>\\n                    <i class=\"icon-star\"></i>\\n                </p>\\n            \\n        \\n\\n        \\n            <h3><a href=\"../../../most-wanted_623/index.html\" title=\"Most Wanted\">Most Wanted</a></h3>\\n        \\n\\n        \\n            <div class=\"product_price\">\\n                \\n\\n\\n\\n\\n\\n\\n    \\n        <p class=\"price_color\">Â£35.28</p>\\n    \\n\\n<p class=\"instock availability\">\\n    <i class=\"icon-ok\"></i>\\n    \\n        In stock\\n    \\n</p>\\n\\n                \\n                    \\n\\n\\n\\n\\n\\n\\n    \\n    <form>\\n        <button type=\"submit\" class=\"btn btn-primary btn-block\" data-loading-text=\"Adding...\">Add to basket</button>\\n    </form>\\n\\n\\n                \\n            </div>\\n        \\n    </article>\\n\\n</li>\\n                    \\n                        <li class=\"col-xs-6 col-sm-4 col-md-3 col-lg-3\">\\n\\n\\n\\n\\n\\n\\n    <article class=\"product_pod\">\\n        \\n            <div class=\"image_container\">\\n                \\n                    \\n                    <a href=\"../../../hide-away-eve-duncan-20_620/index.html\"><img src=\"../../../../media/cache/57/07/5707c3d5d4fd44d943d51730ba7d429a.jpg\" alt=\"Hide Away (Eve Duncan #20)\" class=\"thumbnail\"></a>\\n                    \\n                \\n            </div>\\n        \\n\\n        \\n            \\n                <p class=\"star-rating One\">\\n                    <i class=\"icon-star\"></i>\\n                    <i class=\"icon-star\"></i>\\n                    <i class=\"icon-star\"></i>\\n                    <i class=\"icon-star\"></i>\\n                    <i class=\"icon-star\"></i>\\n                </p>\\n            \\n        \\n\\n        \\n            <h3><a href=\"../../../hide-away-eve-duncan-20_620/index.html\" title=\"Hide Away (Eve Duncan #20)\">Hide Away (Eve Duncan ...</a></h3>\\n        \\n\\n        \\n            <div class=\"product_price\">\\n                \\n\\n\\n\\n\\n\\n\\n    \\n        <p class=\"price_color\">Â£11.84</p>\\n    \\n\\n<p class=\"instock availability\">\\n    <i class=\"icon-ok\"></i>\\n    \\n        In stock\\n    \\n</p>\\n\\n                \\n                    \\n\\n\\n\\n\\n\\n\\n    \\n    <form>\\n        <button type=\"submit\" class=\"btn btn-primary btn-block\" data-loading-text=\"Adding...\">Add to basket</button>\\n    </form>\\n\\n\\n                \\n            </div>\\n        \\n    </article>\\n\\n</li>\\n                    \\n                        <li class=\"col-xs-6 col-sm-4 col-md-3 col-lg-3\">\\n\\n\\n\\n\\n\\n\\n    <article class=\"product_pod\">\\n        \\n            <div class=\"image_container\">\\n                \\n                    \\n                    <a href=\"../../../boar-island-anna-pigeon-19_613/index.html\"><img src=\"../../../../media/cache/d5/81/d58157866ea8f015a8e4c55b23b8c96f.jpg\" alt=\"Boar Island (Anna Pigeon #19)\" class=\"thumbnail\"></a>\\n                    \\n                \\n            </div>\\n        \\n\\n        \\n            \\n                <p class=\"star-rating Three\">\\n                    <i class=\"icon-star\"></i>\\n                    <i class=\"icon-star\"></i>\\n                    <i class=\"icon-star\"></i>\\n                    <i class=\"icon-star\"></i>\\n                    <i class=\"icon-star\"></i>\\n                </p>\\n            \\n        \\n\\n        \\n            <h3><a href=\"../../../boar-island-anna-pigeon-19_613/index.html\" title=\"Boar Island (Anna Pigeon #19)\">Boar Island (Anna Pigeon ...</a></h3>\\n        \\n\\n        \\n            <div class=\"product_price\">\\n                \\n\\n\\n\\n\\n\\n\\n    \\n        <p class=\"price_color\">Â£59.48</p>\\n    \\n\\n<p class=\"instock availability\">\\n    <i class=\"icon-ok\"></i>\\n    \\n        In stock\\n    \\n</p>\\n\\n                \\n                    \\n\\n\\n\\n\\n\\n\\n    \\n    <form>\\n        <button type=\"submit\" class=\"btn btn-primary btn-block\" data-loading-text=\"Adding...\">Add to basket</button>\\n    </form>\\n\\n\\n                \\n            </div>\\n        \\n    </article>\\n\\n</li>\\n                    \\n                        <li class=\"col-xs-6 col-sm-4 col-md-3 col-lg-3\">\\n\\n\\n\\n\\n\\n\\n    <article class=\"product_pod\">\\n        \\n            <div class=\"image_container\">\\n                \\n                    \\n                    <a href=\"../../../the-widow_609/index.html\"><img src=\"../../../../media/cache/fd/71/fd71fb07247bf911505a351c0670c6dc.jpg\" alt=\"The Widow\" class=\"thumbnail\"></a>\\n                    \\n                \\n            </div>\\n        \\n\\n        \\n            \\n                <p class=\"star-rating Two\">\\n                    <i class=\"icon-star\"></i>\\n                    <i class=\"icon-star\"></i>\\n                    <i class=\"icon-star\"></i>\\n                    <i class=\"icon-star\"></i>\\n                    <i class=\"icon-star\"></i>\\n                </p>\\n            \\n        \\n\\n        \\n            <h3><a href=\"../../../the-widow_609/index.html\" title=\"The Widow\">The Widow</a></h3>\\n        \\n\\n        \\n            <div class=\"product_price\">\\n                \\n\\n\\n\\n\\n\\n\\n    \\n        <p class=\"price_color\">Â£27.26</p>\\n    \\n\\n<p class=\"instock availability\">\\n    <i class=\"icon-ok\"></i>\\n    \\n        In stock\\n    \\n</p>\\n\\n                \\n                    \\n\\n\\n\\n\\n\\n\\n    \\n    <form>\\n        <button type=\"submit\" class=\"btn btn-primary btn-block\" data-loading-text=\"Adding...\">Add to basket</button>\\n    </form>\\n\\n\\n                \\n            </div>\\n        \\n    </article>\\n\\n</li>\\n                    \\n                        <li class=\"col-xs-6 col-sm-4 col-md-3 col-lg-3\">\\n\\n\\n\\n\\n\\n\\n    <article class=\"product_pod\">\\n        \\n            <div class=\"image_container\">\\n                \\n                    \\n                    <a href=\"../../../playing-with-fire_602/index.html\"><img src=\"../../../../media/cache/90/0b/900bd2e60d56b6480a4e8eb2dddb46d6.jpg\" alt=\"Playing with Fire\" class=\"thumbnail\"></a>\\n                    \\n                \\n            </div>\\n        \\n\\n        \\n            \\n                <p class=\"star-rating Three\">\\n                    <i class=\"icon-star\"></i>\\n                    <i class=\"icon-star\"></i>\\n                    <i class=\"icon-star\"></i>\\n                    <i class=\"icon-star\"></i>\\n                    <i class=\"icon-star\"></i>\\n                </p>\\n            \\n        \\n\\n        \\n            <h3><a href=\"../../../playing-with-fire_602/index.html\" title=\"Playing with Fire\">Playing with Fire</a></h3>\\n        \\n\\n        \\n            <div class=\"product_price\">\\n                \\n\\n\\n\\n\\n\\n\\n    \\n        <p class=\"price_color\">Â£13.71</p>\\n    \\n\\n<p class=\"instock availability\">\\n    <i class=\"icon-ok\"></i>\\n    \\n        In stock\\n    \\n</p>\\n\\n                \\n                    \\n\\n\\n\\n\\n\\n\\n    \\n    <form>\\n        <button type=\"submit\" class=\"btn btn-primary btn-block\" data-loading-text=\"Adding...\">Add to basket</button>\\n    </form>\\n\\n\\n                \\n            </div>\\n        \\n    </article>\\n\\n</li>\\n                    \\n                        <li class=\"col-xs-6 col-sm-4 col-md-3 col-lg-3\">\\n\\n\\n\\n\\n\\n\\n    <article class=\"product_pod\">\\n        \\n            <div class=\"image_container\">\\n                \\n                    \\n                    <a href=\"../../../what-happened-on-beale-street-secrets-of-the-south-mysteries-2_506/index.html\"><img src=\"../../../../media/cache/c7/ab/c7abb5e32bd37118a87523dcee0a70a6.jpg\" alt=\"What Happened on Beale Street (Secrets of the South Mysteries #2)\" class=\"thumbnail\"></a>\\n                    \\n                \\n            </div>\\n        \\n\\n        \\n            \\n                <p class=\"star-rating Five\">\\n                    <i class=\"icon-star\"></i>\\n                    <i class=\"icon-star\"></i>\\n                    <i class=\"icon-star\"></i>\\n                    <i class=\"icon-star\"></i>\\n                    <i class=\"icon-star\"></i>\\n                </p>\\n            \\n        \\n\\n        \\n            <h3><a href=\"../../../what-happened-on-beale-street-secrets-of-the-south-mysteries-2_506/index.html\" title=\"What Happened on Beale Street (Secrets of the South Mysteries #2)\">What Happened on Beale ...</a></h3>\\n        \\n\\n        \\n            <div class=\"product_price\">\\n                \\n\\n\\n\\n\\n\\n\\n    \\n        <p class=\"price_color\">Â£25.37</p>\\n    \\n\\n<p class=\"instock availability\">\\n    <i class=\"icon-ok\"></i>\\n    \\n        In stock\\n    \\n</p>\\n\\n                \\n                    \\n\\n\\n\\n\\n\\n\\n    \\n    <form>\\n        <button type=\"submit\" class=\"btn btn-primary btn-block\" data-loading-text=\"Adding...\">Add to basket</button>\\n    </form>\\n\\n\\n                \\n            </div>\\n        \\n    </article>\\n\\n</li>\\n                    \\n                        <li class=\"col-xs-6 col-sm-4 col-md-3 col-lg-3\">\\n\\n\\n\\n\\n\\n\\n    <article class=\"product_pod\">\\n        \\n            <div class=\"image_container\">\\n                \\n                    \\n                    <a href=\"../../../the-bachelor-girls-guide-to-murder-herringford-and-watts-mysteries-1_491/index.html\"><img src=\"../../../../media/cache/95/d7/95d7541679fcbd579b8a4f2b47231aaf.jpg\" alt=\"The Bachelor Girl&#39;s Guide to Murder (Herringford and Watts Mysteries #1)\" class=\"thumbnail\"></a>\\n                    \\n                \\n            </div>\\n        \\n\\n        \\n            \\n                <p class=\"star-rating Five\">\\n                    <i class=\"icon-star\"></i>\\n                    <i class=\"icon-star\"></i>\\n                    <i class=\"icon-star\"></i>\\n                    <i class=\"icon-star\"></i>\\n                    <i class=\"icon-star\"></i>\\n                </p>\\n            \\n        \\n\\n        \\n            <h3><a href=\"../../../the-bachelor-girls-guide-to-murder-herringford-and-watts-mysteries-1_491/index.html\" title=\"The Bachelor Girl&#39;s Guide to Murder (Herringford and Watts Mysteries #1)\">The Bachelor Girl&#39;s Guide ...</a></h3>\\n        \\n\\n        \\n            <div class=\"product_price\">\\n                \\n\\n\\n\\n\\n\\n\\n    \\n        <p class=\"price_color\">Â£52.30</p>\\n    \\n\\n<p class=\"instock availability\">\\n    <i class=\"icon-ok\"></i>\\n    \\n        In stock\\n    \\n</p>\\n\\n                \\n                    \\n\\n\\n\\n\\n\\n\\n    \\n    <form>\\n        <button type=\"submit\" class=\"btn btn-primary btn-block\" data-loading-text=\"Adding...\">Add to basket</button>\\n    </form>\\n\\n\\n                \\n            </div>\\n        \\n    </article>\\n\\n</li>\\n                    \\n                        <li class=\"col-xs-6 col-sm-4 col-md-3 col-lg-3\">\\n\\n\\n\\n\\n\\n\\n    <article class=\"product_pod\">\\n        \\n            <div class=\"image_container\">\\n                \\n                    \\n                    <a href=\"../../../delivering-the-truth-quaker-midwife-mystery-1_464/index.html\"><img src=\"../../../../media/cache/57/31/5731a5d46c2c1e88977eb5e6d1337a2e.jpg\" alt=\"Delivering the Truth (Quaker Midwife Mystery #1)\" class=\"thumbnail\"></a>\\n                    \\n                \\n            </div>\\n        \\n\\n        \\n            \\n                <p class=\"star-rating Four\">\\n                    <i class=\"icon-star\"></i>\\n                    <i class=\"icon-star\"></i>\\n                    <i class=\"icon-star\"></i>\\n                    <i class=\"icon-star\"></i>\\n                    <i class=\"icon-star\"></i>\\n                </p>\\n            \\n        \\n\\n        \\n            <h3><a href=\"../../../delivering-the-truth-quaker-midwife-mystery-1_464/index.html\" title=\"Delivering the Truth (Quaker Midwife Mystery #1)\">Delivering the Truth (Quaker ...</a></h3>\\n        \\n\\n        \\n            <div class=\"product_price\">\\n                \\n\\n\\n\\n\\n\\n\\n    \\n        <p class=\"price_color\">Â£20.89</p>\\n    \\n\\n<p class=\"instock availability\">\\n    <i class=\"icon-ok\"></i>\\n    \\n        In stock\\n    \\n</p>\\n\\n                \\n                    \\n\\n\\n\\n\\n\\n\\n    \\n    <form>\\n        <button type=\"submit\" class=\"btn btn-primary btn-block\" data-loading-text=\"Adding...\">Add to basket</button>\\n    </form>\\n\\n\\n                \\n            </div>\\n        \\n    </article>\\n\\n</li>\\n                    \\n                </ol>\\n                \\n\\n\\n\\n    <div>\\n        <ul class=\"pager\">\\n            \\n            <li class=\"current\">\\n            \\n                Page 1 of 2\\n            \\n            </li>\\n            \\n                <li class=\"next\"><a href=\"page-2.html\">next</a></li>\\n            \\n        </ul>\\n    </div>\\n\\n\\n            </div>\\n        </section>\\n    \\n\\n\\n\\n            </div>\\n\\n        </div><!-- /row -->\\n    </div><!-- /page_inner -->\\n</div><!-- /container-fluid -->\\n\\n\\n    \\n<footer class=\"footer container-fluid\">\\n    \\n        \\n    \\n</footer>\\n\\n\\n        \\n        \\n  \\n            <!-- jQuery -->\\n            <script src=\"http://ajax.googleapis.com/ajax/libs/jquery/1.9.1/jquery.min.js\"></script>\\n            <script>window.jQuery || document.write(\\'<script src=\"../../../../static/oscar/js/jquery/jquery-1.9.1.min.js\"><\\\\/script>\\')</script>\\n        \\n  \\n\\n\\n        \\n        \\n    \\n        \\n    <!-- Twitter Bootstrap -->\\n    <script type=\"text/javascript\" src=\"../../../../static/oscar/js/bootstrap3/bootstrap.min.js\"></script>\\n    <!-- Oscar -->\\n    <script src=\"../../../../static/oscar/js/oscar/ui.js\" type=\"text/javascript\" charset=\"utf-8\"></script>\\n\\n    <script src=\"../../../../static/oscar/js/bootstrap-datetimepicker/bootstrap-datetimepicker.js\" type=\"text/javascript\" charset=\"utf-8\"></script>\\n    <script src=\"../../../../static/oscar/js/bootstrap-datetimepicker/locales/bootstrap-datetimepicker.all.js\" type=\"text/javascript\" charset=\"utf-8\"></script>\\n\\n\\n        \\n        \\n    \\n\\n    \\n\\n\\n        \\n        <script type=\"text/javascript\">\\n            $(function() {\\n                \\n    \\n    \\n    oscar.init();\\n\\n    oscar.search.init();\\n\\n            });\\n        </script>\\n\\n        \\n        <!-- Version: N/A -->\\n        \\n    </body>\\n</html>\\n'"
            ],
            "application/vnd.google.colaboratory.intrinsic+json": {
              "type": "string"
            }
          },
          "metadata": {},
          "execution_count": 56
        }
      ]
    },
    {
      "cell_type": "code",
      "source": [
        "# Request the page content\n",
        "response = requests.get(url)\n",
        "\n",
        "# Parse the HTML content\n",
        "soup = BeautifulSoup(response.content, 'html.parser')\n",
        "\n",
        "# Find all product tags\n",
        "products = soup.find_all(\"article\",class_=\"product_pod\")\n",
        "\n",
        "# Loop through each article\n",
        "for article in articles:\n",
        "    # Get the link of the article\n",
        "    link = article.find('a')['href']\n",
        "    # Check if the link contains the desired URL\n",
        "    if \"page-2.html\" in link:\n",
        "        # Construct the full URL for the next page\n",
        "        next_page_url = url[:url.rfind('/') + 1] + link\n",
        "        # Request the next page\n",
        "        next_page = requests.get(next_page_url)\n",
        "        # Parse the next page HTML content\n",
        "        next_soup = BeautifulSoup(next_page.content, 'html.parser')\n",
        "        # Get the title of the next page\n",
        "        next_title = next_soup.find('h1').text\n",
        "        print(\"Next page title:\", next_title)"
      ],
      "metadata": {
        "id": "I3IjE84WYKAM"
      },
      "execution_count": 57,
      "outputs": []
    },
    {
      "cell_type": "code",
      "source": [
        "# menghitung jumlah data yang ada pada web\n",
        "len(product)"
      ],
      "metadata": {
        "colab": {
          "base_uri": "https://localhost:8080/"
        },
        "id": "hxJH69uEawQm",
        "outputId": "0af74dc8-1ca3-4e0a-d6ff-b12a84bfdd47"
      },
      "execution_count": 58,
      "outputs": [
        {
          "output_type": "execute_result",
          "data": {
            "text/plain": [
              "9"
            ]
          },
          "metadata": {},
          "execution_count": 58
        }
      ]
    },
    {
      "cell_type": "code",
      "source": [
        "# mengambil nilai pada webscrapper\n",
        "products[0]"
      ],
      "metadata": {
        "id": "UdDoaBJpa8go",
        "outputId": "5a011b6d-13a0-46a3-a888-58daa4c94105",
        "colab": {
          "base_uri": "https://localhost:8080/"
        }
      },
      "execution_count": 76,
      "outputs": [
        {
          "output_type": "execute_result",
          "data": {
            "text/plain": [
              "<article class=\"product_pod\">\n",
              "<div class=\"image_container\">\n",
              "<a href=\"../../../sharp-objects_997/index.html\"><img alt=\"Sharp Objects\" class=\"thumbnail\" src=\"../../../../media/cache/32/51/3251cf3a3412f53f339e42cac2134093.jpg\"/></a>\n",
              "</div>\n",
              "<p class=\"star-rating Four\">\n",
              "<i class=\"icon-star\"></i>\n",
              "<i class=\"icon-star\"></i>\n",
              "<i class=\"icon-star\"></i>\n",
              "<i class=\"icon-star\"></i>\n",
              "<i class=\"icon-star\"></i>\n",
              "</p>\n",
              "<h3><a href=\"../../../sharp-objects_997/index.html\" title=\"Sharp Objects\">Sharp Objects</a></h3>\n",
              "<div class=\"product_price\">\n",
              "<p class=\"price_color\">£47.82</p>\n",
              "<p class=\"instock availability\">\n",
              "<i class=\"icon-ok\"></i>\n",
              "    \n",
              "        In stock\n",
              "    \n",
              "</p>\n",
              "<form>\n",
              "<button class=\"btn btn-primary btn-block\" data-loading-text=\"Adding...\" type=\"submit\">Add to basket</button>\n",
              "</form>\n",
              "</div>\n",
              "</article>"
            ]
          },
          "metadata": {},
          "execution_count": 76
        }
      ]
    },
    {
      "cell_type": "code",
      "source": [
        "products = soup.find_all(\"article\", class_=\"product_pod\")"
      ],
      "metadata": {
        "id": "RIhQAYijQ6Ux"
      },
      "execution_count": 87,
      "outputs": []
    },
    {
      "cell_type": "code",
      "source": [
        "# get all element\n",
        "import re\n",
        "\n",
        "raw_data = []\n",
        "for product in products:\n",
        "  item = dict()\n",
        "  item['title'] = product.find(\"h3\").text\n",
        "  item['price'] = product.find(\"div\", class_=\"product_price\").find(\"p\", class_=\"price_color\").text\n",
        "  item['rating'] = product.find(\"p\", class_=re.compile(\"star-rating.*\"))['class'][1]\n",
        "  item['link_detail'] = product.select_one(\"h3 > a\").get(\"href\")\n",
        "  raw_data.append(item)"
      ],
      "metadata": {
        "id": "B6VC-0VNSsPP"
      },
      "execution_count": 88,
      "outputs": []
    },
    {
      "cell_type": "code",
      "source": [
        "raw_data"
      ],
      "metadata": {
        "colab": {
          "base_uri": "https://localhost:8080/"
        },
        "id": "RvMGS3yJ7mUd",
        "outputId": "f0bc8c74-f492-46c3-e93b-006afa712f8c"
      },
      "execution_count": 89,
      "outputs": [
        {
          "output_type": "execute_result",
          "data": {
            "text/plain": [
              "[{'title': 'Sharp Objects',\n",
              "  'price': '£47.82',\n",
              "  'rating': 'Four',\n",
              "  'link_detail': '../../../sharp-objects_997/index.html'},\n",
              " {'title': 'In a Dark, Dark ...',\n",
              "  'price': '£19.63',\n",
              "  'rating': 'One',\n",
              "  'link_detail': '../../../in-a-dark-dark-wood_963/index.html'},\n",
              " {'title': 'The Past Never Ends',\n",
              "  'price': '£56.50',\n",
              "  'rating': 'Four',\n",
              "  'link_detail': '../../../the-past-never-ends_942/index.html'},\n",
              " {'title': 'A Murder in Time',\n",
              "  'price': '£16.64',\n",
              "  'rating': 'One',\n",
              "  'link_detail': '../../../a-murder-in-time_877/index.html'},\n",
              " {'title': 'The Murder of Roger ...',\n",
              "  'price': '£44.10',\n",
              "  'rating': 'Four',\n",
              "  'link_detail': '../../../the-murder-of-roger-ackroyd-hercule-poirot-4_852/index.html'},\n",
              " {'title': 'The Last Mile (Amos ...',\n",
              "  'price': '£54.21',\n",
              "  'rating': 'Two',\n",
              "  'link_detail': '../../../the-last-mile-amos-decker-2_754/index.html'},\n",
              " {'title': 'That Darkness (Gardiner and ...',\n",
              "  'price': '£13.92',\n",
              "  'rating': 'One',\n",
              "  'link_detail': '../../../that-darkness-gardiner-and-renner-1_743/index.html'},\n",
              " {'title': 'Tastes Like Fear (DI ...',\n",
              "  'price': '£10.69',\n",
              "  'rating': 'One',\n",
              "  'link_detail': '../../../tastes-like-fear-di-marnie-rome-3_742/index.html'},\n",
              " {'title': 'A Time of Torment ...',\n",
              "  'price': '£48.35',\n",
              "  'rating': 'Five',\n",
              "  'link_detail': '../../../a-time-of-torment-charlie-parker-14_657/index.html'},\n",
              " {'title': 'A Study in Scarlet ...',\n",
              "  'price': '£16.73',\n",
              "  'rating': 'Two',\n",
              "  'link_detail': '../../../a-study-in-scarlet-sherlock-holmes-1_656/index.html'},\n",
              " {'title': 'Poisonous (Max Revere Novels ...',\n",
              "  'price': '£26.80',\n",
              "  'rating': 'Three',\n",
              "  'link_detail': '../../../poisonous-max-revere-novels-3_627/index.html'},\n",
              " {'title': 'Murder at the 42nd ...',\n",
              "  'price': '£54.36',\n",
              "  'rating': 'Four',\n",
              "  'link_detail': '../../../murder-at-the-42nd-street-library-raymond-ambler-1_624/index.html'},\n",
              " {'title': 'Most Wanted',\n",
              "  'price': '£35.28',\n",
              "  'rating': 'Three',\n",
              "  'link_detail': '../../../most-wanted_623/index.html'},\n",
              " {'title': 'Hide Away (Eve Duncan ...',\n",
              "  'price': '£11.84',\n",
              "  'rating': 'One',\n",
              "  'link_detail': '../../../hide-away-eve-duncan-20_620/index.html'},\n",
              " {'title': 'Boar Island (Anna Pigeon ...',\n",
              "  'price': '£59.48',\n",
              "  'rating': 'Three',\n",
              "  'link_detail': '../../../boar-island-anna-pigeon-19_613/index.html'},\n",
              " {'title': 'The Widow',\n",
              "  'price': '£27.26',\n",
              "  'rating': 'Two',\n",
              "  'link_detail': '../../../the-widow_609/index.html'},\n",
              " {'title': 'Playing with Fire',\n",
              "  'price': '£13.71',\n",
              "  'rating': 'Three',\n",
              "  'link_detail': '../../../playing-with-fire_602/index.html'},\n",
              " {'title': 'What Happened on Beale ...',\n",
              "  'price': '£25.37',\n",
              "  'rating': 'Five',\n",
              "  'link_detail': '../../../what-happened-on-beale-street-secrets-of-the-south-mysteries-2_506/index.html'},\n",
              " {'title': \"The Bachelor Girl's Guide ...\",\n",
              "  'price': '£52.30',\n",
              "  'rating': 'Five',\n",
              "  'link_detail': '../../../the-bachelor-girls-guide-to-murder-herringford-and-watts-mysteries-1_491/index.html'},\n",
              " {'title': 'Delivering the Truth (Quaker ...',\n",
              "  'price': '£20.89',\n",
              "  'rating': 'Four',\n",
              "  'link_detail': '../../../delivering-the-truth-quaker-midwife-mystery-1_464/index.html'}]"
            ]
          },
          "metadata": {},
          "execution_count": 89
        }
      ]
    },
    {
      "cell_type": "code",
      "source": [
        "import csv\n",
        "\n",
        "# Assuming you have already collected the raw_data list\n",
        "# Define the list of dictionaries containing the data\n",
        "raw_data = [\n",
        "    {'title': 'Sharp Objects', 'price': '£47.82', 'rating': 'Four', 'link_detail': '../../../sharp-objects_997/index.html'},\n",
        "    {'title': 'In a Dark, Dark ...', 'price': '£19.63', 'rating': 'One', 'link_detail': '../../../in-a-dark-dark-wood_963/index.html'},\n",
        "    # Include all other data here\n",
        "]\n",
        "\n",
        "# Define the fieldnames for the CSV file\n",
        "fieldnames = ['title', 'price', 'rating', 'link_detail']\n",
        "\n",
        "# Write data to CSV file\n",
        "with open('data.csv', 'w', newline='', encoding='utf-8') as csvfile:\n",
        "    writer = csv.DictWriter(csvfile, fieldnames=fieldnames)\n",
        "\n",
        "    # Write header\n",
        "    writer.writeheader()\n",
        "\n",
        "    # Write data rows\n",
        "    for item in raw_data:\n",
        "        writer.writerow(item)\n",
        "\n",
        "print(\"Data saved successfully to data.csv\")\n"
      ],
      "metadata": {
        "colab": {
          "base_uri": "https://localhost:8080/"
        },
        "id": "4hRp--49K9OG",
        "outputId": "5c7d28c0-a89b-4dfc-db8b-2a4b9b51769b"
      },
      "execution_count": 71,
      "outputs": [
        {
          "output_type": "stream",
          "name": "stdout",
          "text": [
            "Data saved successfully to data.csv\n"
          ]
        }
      ]
    },
    {
      "cell_type": "markdown",
      "source": [
        "Alasan menggunakan beutifulSoup karena dari hands-on yang dilakukan sepertinya mudah untuk scrapping website yang statik dan belum kena captcha human or robot dan mengenai kendala yang dialami saat pengerjaan ini minimnya pengetahuan dan saat mencoba menggunakan chat GPT hasil yang didapatkan harus mendefine seluruh list yang ada pada raw data\n",
        "\n",
        "jika boleh apakah ada cara best practices yang lebih baik untuk memperingkas pengambilan data ini ?\n",
        "\n",
        "karena masih minimnya eksplorasi scripting menggunakan beautifulsoup"
      ],
      "metadata": {
        "id": "dalEc6L0NwCI"
      }
    }
  ]
}